{
 "cells": [
  {
   "cell_type": "markdown",
   "metadata": {
    "id": "Zw_326KLT9dF"
   },
   "source": [
    "The purpose of the project is to learn the mapping from polar coordinates to a a discrete 10x10 grid of cells in the plane, using a neural network. \n",
    "\n",
    "The supervised dataset is given to you in the form of a generator (to be considered as a black box).\n",
    "\n",
    "The model must achieve an accuracy of 95%, and it will be evaluated in a way **inversely proportional to the number of its parameters: the smaller, the better.**\n",
    "\n",
    "**WARNING**: Any solution taking advantage of meta-knowledge about the generator will be automatically rejected."
   ]
  },
  {
   "cell_type": "code",
   "execution_count": 74,
   "metadata": {
    "id": "ynz-4_4cFmbJ"
   },
   "outputs": [],
   "source": [
    "import numpy as np\n",
    "import tensorflow as tf\n",
    "from tensorflow.keras.layers import Input, Dense, Reshape, concatenate\n",
    "from tensorflow.keras.models import Model"
   ]
  },
  {
   "cell_type": "markdown",
   "metadata": {
    "id": "iA01pkKbUt7Q"
   },
   "source": [
    "Here is the generator. It returns triples of the form ((theta,rho),out) where (theta,rho) are the polar coordinates of a point in the first quadrant of the plane, and out is a 10x10 map with \"1\" in the cell corresponding to the point position, and \"0\" everywhere else.\n",
    "\n",
    "By setting flat=True, the resulting map is flattened into a vector with a single dimension 100. You can use this variant, if you wish. "
   ]
  },
  {
   "cell_type": "code",
   "execution_count": 78,
   "metadata": {
    "id": "DsA1GqAeWAdo"
   },
   "outputs": [],
   "source": [
    "def polar_generator(batchsize,grid=(10,10),noise=.002,flat=False):\n",
    "  while True:\n",
    "    x = np.random.rand(batchsize)\n",
    "    y = np.random.rand(batchsize)\n",
    "    out = np.zeros((batchsize,grid[0],grid[1]))\n",
    "    xc = (x*grid[0]).astype(int)\n",
    "    yc = (y*grid[1]).astype(int)\n",
    "    for b in range(batchsize):\n",
    "      out[b,xc[b],yc[b]] = 1\n",
    "    #compute rho and theta and add some noise\n",
    "    rho = np.sqrt(x**2+y**2) + np.random.normal(scale=noise)\n",
    "    theta = np.arctan(y/np.maximum(x,.00001)) + np.random.normal(scale=noise)\n",
    "    if flat:\n",
    "      out = np.reshape(out,(batchsize,grid[0]*grid[1]))\n",
    "    yield ((theta,rho),out)"
   ]
  },
  {
   "cell_type": "markdown",
   "metadata": {
    "id": "ZF-jlaqAWc2o"
   },
   "source": [
    "Let's create an instance of the generator on a grid with dimension 3x4"
   ]
  },
  {
   "cell_type": "code",
   "execution_count": 79,
   "metadata": {
    "id": "Ov3rXaLVHDCT"
   },
   "outputs": [
    {
     "data": {
      "text/plain": [
       "((array([1.34334888]), array([0.73512462])),\n",
       " array([[[0., 0., 0., 1., 0.],\n",
       "         [0., 0., 0., 0., 0.],\n",
       "         [0., 0., 0., 0., 0.],\n",
       "         [0., 0., 0., 0., 0.],\n",
       "         [0., 0., 0., 0., 0.]]]))"
      ]
     },
     "execution_count": 79,
     "metadata": {},
     "output_type": "execute_result"
    }
   ],
   "source": [
    "g1,g2 = 5,5\n",
    "gen = polar_generator(1,grid=(g1,g2),noise=0.0)\n",
    "next(gen)"
   ]
  },
  {
   "cell_type": "markdown",
   "metadata": {
    "id": "b4hntQtSWjPk"
   },
   "source": [
    "And now let's see a few samples."
   ]
  },
  {
   "cell_type": "code",
   "execution_count": 80,
   "metadata": {
    "colab": {
     "base_uri": "https://localhost:8080/"
    },
    "id": "PM7R8ZZZHN7p",
    "outputId": "0bacea32-6460-43b0-f5c8-d5c9b5783d70"
   },
   "outputs": [
    {
     "name": "stdout",
     "output_type": "stream",
     "text": [
      "x coordinate (row): 2\n",
      "y coordinate (col): 0\n",
      "map:\n",
      "[[0. 0. 0. 0. 0.]\n",
      " [0. 0. 0. 0. 0.]\n",
      " [1. 0. 0. 0. 0.]\n",
      " [0. 0. 0. 0. 0.]\n",
      " [0. 0. 0. 0. 0.]]\n"
     ]
    }
   ],
   "source": [
    "(theta,rho),maps = next(gen)\n",
    "for i,map in enumerate(maps):\n",
    "  #let us compute the cartesian coordinates\n",
    "  x = np.cos(theta[i])*rho[i]\n",
    "  y = np.sin(theta[i])*rho[i]\n",
    "  print(\"x coordinate (row): {}\".format(int(x*g1)))\n",
    "  print(\"y coordinate (col): {}\".format(int(y*g2)))\n",
    "  print(\"map:\")\n",
    "  print(np.reshape(map,(g1,g2)))"
   ]
  },
  {
   "cell_type": "markdown",
   "metadata": {
    "id": "NTY5fu8Hg7RE"
   },
   "source": [
    "Exercise: add noise to the generator, and check the effect on the \"ground truth\"."
   ]
  },
  {
   "cell_type": "markdown",
   "metadata": {
    "id": "jj4akvA24maJ"
   },
   "source": [
    "# What to deliver\n",
    "\n",
    "For the purposes of the project you are supposed to work with the **default 10x10 grid, and the default noise=.002**\n",
    "\n",
    "The generator must be treatead as a black box, do not tweak it, and do not exploit its semantics that is supposed to be unknown. You are allowed to work with the \"flat\" modality, if you prefer so.\n",
    "\n",
    "You need to:\n",
    "1.   define an accuracy function (take inspiration from the code of the previous cell)\n",
    "2.   define a neural network taking in input theta and rho, and returning out\n",
    "3. measure the network's accuracy that must be above 95% (accuracy must be evaluated over at least 20000 samples)\n",
    "4. tune the network trying to decrease as much as possible the numer of parameters, preserving an accuracy above 95%. Only your best network must be delivered.\n",
    "\n",
    "You must deliver a SINGLE notebook working on colab, containing the code of the network, its summary, the training history, the code for the accurary metric and its evaluation on the network.\n",
    "\n",
    "**N.B.** The accuracy must be above 95% but apart from that it does not influence the evaluation. You score will only depend on the number of parameters: the lower, the better.\n",
    "\n",
    "#Good work!\n",
    "\n",
    "\n",
    "\n"
   ]
  },
  {
   "cell_type": "code",
   "execution_count": null,
   "metadata": {},
   "outputs": [],
   "source": []
  }
 ],
 "metadata": {
  "colab": {
   "provenance": []
  },
  "kernelspec": {
   "display_name": "Python 3 (ipykernel)",
   "language": "python",
   "name": "python3"
  },
  "language_info": {
   "codemirror_mode": {
    "name": "ipython",
    "version": 3
   },
   "file_extension": ".py",
   "mimetype": "text/x-python",
   "name": "python",
   "nbconvert_exporter": "python",
   "pygments_lexer": "ipython3",
   "version": "3.9.12"
  }
 },
 "nbformat": 4,
 "nbformat_minor": 1
}
